{
 "cells": [
  {
   "cell_type": "code",
   "execution_count": 20,
   "metadata": {},
   "outputs": [],
   "source": [
    "# https://developers.arcgis.com/python/api-reference/arcgis.features.toc.html?highlight=spatialdataframe#arcgis.features.SpatialDataFrame\n",
    "from arcgis import GIS\n",
    "import pandas as pd\n",
    "from pathlib import Path\n",
    "\n",
    "from data_load.data_load import AllSites, Site"
   ]
  },
  {
   "cell_type": "markdown",
   "metadata": {},
   "source": [
    "### Load data from SQL and export to feature class"
   ]
  },
  {
   "cell_type": "code",
   "execution_count": 25,
   "metadata": {},
   "outputs": [
    {
     "name": "stdout",
     "output_type": "stream",
     "text": [
      "Creating engine for machine_learning_pr at DESKTOP-4IL536V\\SQLEXPRESS\n"
     ]
    },
    {
     "ename": "ValueError",
     "evalue": "DataFrame must have geometry set.",
     "output_type": "error",
     "traceback": [
      "\u001b[1;31m---------------------------------------------------------------------------\u001b[0m",
      "\u001b[1;31mValueError\u001b[0m                                Traceback (most recent call last)",
      "\u001b[1;32m<ipython-input-25-02b872fa7286>\u001b[0m in \u001b[0;36m<module>\u001b[1;34m\u001b[0m\n\u001b[0;32m      8\u001b[0m all_sites.spatial.to_featureclass(\n\u001b[0;32m      9\u001b[0m     \u001b[0mfullpath\u001b[0m\u001b[1;33m,\u001b[0m\u001b[1;33m\u001b[0m\u001b[1;33m\u001b[0m\u001b[0m\n\u001b[1;32m---> 10\u001b[1;33m     \u001b[0moverwrite\u001b[0m\u001b[1;33m=\u001b[0m\u001b[1;32mTrue\u001b[0m\u001b[1;33m,\u001b[0m\u001b[1;33m\u001b[0m\u001b[1;33m\u001b[0m\u001b[0m\n\u001b[0m\u001b[0;32m     11\u001b[0m )\n",
      "\u001b[1;32m~\\AppData\\Local\\ESRI\\conda\\envs\\arcgispro-py3-clone\\lib\\site-packages\\arcgis\\features\\geo\\_accessor.py\u001b[0m in \u001b[0;36mto_featureclass\u001b[1;34m(self, location, overwrite)\u001b[0m\n\u001b[0;32m   1840\u001b[0m         return to_featureclass(geo=self,\n\u001b[0;32m   1841\u001b[0m                                \u001b[0mlocation\u001b[0m\u001b[1;33m=\u001b[0m\u001b[0mlocation\u001b[0m\u001b[1;33m,\u001b[0m\u001b[1;33m\u001b[0m\u001b[1;33m\u001b[0m\u001b[0m\n\u001b[1;32m-> 1842\u001b[1;33m                                overwrite=overwrite)\n\u001b[0m\u001b[0;32m   1843\u001b[0m     \u001b[1;31m#----------------------------------------------------------------------\u001b[0m\u001b[1;33m\u001b[0m\u001b[1;33m\u001b[0m\u001b[1;33m\u001b[0m\u001b[0m\n\u001b[0;32m   1844\u001b[0m     \u001b[1;32mdef\u001b[0m \u001b[0mto_table\u001b[0m\u001b[1;33m(\u001b[0m\u001b[0mself\u001b[0m\u001b[1;33m,\u001b[0m \u001b[0mlocation\u001b[0m\u001b[1;33m,\u001b[0m \u001b[0moverwrite\u001b[0m\u001b[1;33m=\u001b[0m\u001b[1;32mTrue\u001b[0m\u001b[1;33m)\u001b[0m\u001b[1;33m:\u001b[0m\u001b[1;33m\u001b[0m\u001b[1;33m\u001b[0m\u001b[0m\n",
      "\u001b[1;32m~\\AppData\\Local\\ESRI\\conda\\envs\\arcgispro-py3-clone\\lib\\site-packages\\arcgis\\features\\geo\\_io\\fileops.py\u001b[0m in \u001b[0;36mto_featureclass\u001b[1;34m(geo, location, overwrite, validate)\u001b[0m\n\u001b[0;32m    488\u001b[0m     \u001b[0mdf\u001b[0m \u001b[1;33m=\u001b[0m \u001b[0mgeo\u001b[0m\u001b[1;33m.\u001b[0m\u001b[0m_data\u001b[0m\u001b[1;33m\u001b[0m\u001b[1;33m\u001b[0m\u001b[0m\n\u001b[0;32m    489\u001b[0m     \u001b[1;32mif\u001b[0m \u001b[0mgeo\u001b[0m\u001b[1;33m.\u001b[0m\u001b[0mname\u001b[0m \u001b[1;32mis\u001b[0m \u001b[1;32mNone\u001b[0m\u001b[1;33m:\u001b[0m\u001b[1;33m\u001b[0m\u001b[1;33m\u001b[0m\u001b[0m\n\u001b[1;32m--> 490\u001b[1;33m         \u001b[1;32mraise\u001b[0m \u001b[0mValueError\u001b[0m\u001b[1;33m(\u001b[0m\u001b[1;34m\"DataFrame must have geometry set.\"\u001b[0m\u001b[1;33m)\u001b[0m\u001b[1;33m\u001b[0m\u001b[1;33m\u001b[0m\u001b[0m\n\u001b[0m\u001b[0;32m    491\u001b[0m     \u001b[1;32mif\u001b[0m \u001b[0mvalidate\u001b[0m \u001b[1;32mand\u001b[0m\u001b[0;31m \u001b[0m\u001b[0;31m\\\u001b[0m\u001b[1;33m\u001b[0m\u001b[1;33m\u001b[0m\u001b[0m\n\u001b[0;32m    492\u001b[0m        \u001b[0mgeo\u001b[0m\u001b[1;33m.\u001b[0m\u001b[0mvalidate\u001b[0m\u001b[1;33m(\u001b[0m\u001b[0mstrict\u001b[0m\u001b[1;33m=\u001b[0m\u001b[1;32mTrue\u001b[0m\u001b[1;33m)\u001b[0m \u001b[1;33m==\u001b[0m \u001b[1;32mFalse\u001b[0m\u001b[1;33m:\u001b[0m\u001b[1;33m\u001b[0m\u001b[1;33m\u001b[0m\u001b[0m\n",
      "\u001b[1;31mValueError\u001b[0m: DataFrame must have geometry set."
     ]
    }
   ],
   "source": [
    "all_sites = AllSites()\n",
    "all_sites = all_sites.get_all_sites()\n",
    "\n",
    "current_path = Path()\n",
    "out_name = \"all_monitoring_sites\"\n",
    "fullpath = current_path/out_name\n",
    "\n",
    "all_sites.spatial.to_featureclass(\n",
    "    fullpath,\n",
    "    overwrite=True, \n",
    ")"
   ]
  },
  {
   "cell_type": "code",
   "execution_count": 17,
   "metadata": {},
   "outputs": [
    {
     "data": {
      "text/plain": [
       "<bound method GeoAccessor.to_featureclass of <arcgis.features.geo._accessor.GeoAccessor object at 0x0000016D86B94668>>"
      ]
     },
     "execution_count": 17,
     "metadata": {},
     "output_type": "execute_result"
    }
   ],
   "source": [
    "# from arcgis.features import FeatureSet\n",
    "\n",
    "# mask = (all_sites[\"site_type\"] == \"Groundwater Well\") & (all_sites[\"local_aquifer\"] == \"110SCPL\")\n",
    "# groundwater_sites = all_sites.loc[mask].copy()\n",
    "# groundwater_sites.spatial.to_featureclass\n",
    "\n",
    "# # all_sites_set = FeatureSet.from_dataframe(all_sites)\n",
    "\n",
    "# # all_sites_sde = pd.DataFrame.spatial.from_xy(all_sites, \"longitude\", \"latitude\")\n",
    "\n",
    "# # all_sites_sde = all_sites_sde.replace({pd.np.nan: None})"
   ]
  },
  {
   "cell_type": "code",
   "execution_count": 16,
   "metadata": {},
   "outputs": [],
   "source": [
    "\n",
    "# mask = (all_sites_set[\"site_type\"] == \"Groundwater Well\") & (all_sites_set[\"local_aquifer\"] == \"110SCPL\")\n",
    "# groundwater_sites.sdf = all_sites_set.sdf.loc[mask]\n",
    "\n",
    "\n",
    "# all_sites_set.sdf.plot(\n",
    "# #     df = all_sites_set.sdf,\n",
    "# #     map_widget=basemap,\n",
    "# #     marker_size = 10,\n",
    "# #     renderer_type='s', # specify the unique value renderer using its notation 'u'\n",
    "# # #     col='site_type',  # column to get unique values from\n",
    "# # #     symbol_style='s',  # for square\n",
    "# #     colors='Set3',\n",
    "# #     cstep=3,  \n",
    "# #     line_width = 1,\n",
    "# #     alpha = 0.85\n",
    "# )\n",
    "\n",
    "# basemap.legend = True\n",
    "# basemap\n",
    "\n",
    "\n",
    "# # mask = all_sites_sde[\"site_type\"] == \"Nutrient\"\n",
    "# # nutrient_sites = all_sites_sde.loc[mask].copy()\n",
    "\n",
    "# # nutrient_sites.spatial.plot(\n",
    "# #     map_widget=basemap,\n",
    "# #     marker_size = 15,\n",
    "# #     renderer_type='s', # specify the unique value renderer using its notation 'u'\n",
    "# # #     col='site_type',  # column to get unique values from\n",
    "# #     symbol_style='s',  # for square\n",
    "# #     colors='Set3',\n",
    "# #     cstep=10,\n",
    "# #     line_width = 1,\n",
    "# #     alpha = 0.85\n",
    "# # )\n",
    "\n",
    "\n",
    "# # mask = all_sites_sde[\"site_type\"] == \"Water Quality\"\n",
    "# # water_quality_sites = all_sites_sde.loc[mask].copy()\n",
    "\n",
    "# # water_quality_sites.spatial.plot(\n",
    "# #     map_widget=basemap,\n",
    "# #     marker_size = 10,\n",
    "# #     renderer_type='s', # specify the unique value renderer using its notation 'u'\n",
    "# # #     col='site_type',  # column to get unique values from\n",
    "# # #     symbol_style='s',  # for square\n",
    "# #     colors='Set3',\n",
    "# #     cstep=4,\n",
    "# #     line_width = 1,\n",
    "# #     alpha = 0.85\n",
    "# # )\n",
    "\n",
    "# # mask = all_sites_sde[\"site_type\"] == \"Meteorological\"\n",
    "# # meteorology = all_sites_sde.loc[mask].copy()\n",
    "\n",
    "# # meteorology.spatial.plot(\n",
    "# #     map_widget=basemap,\n",
    "# #     marker_size = 15,\n",
    "# #     renderer_type='s', # specify the unique value renderer using its notation 'u'\n",
    "# # #     col='site_type',  # column to get unique values from\n",
    "# #     symbol_style='d',  # for square\n",
    "# #     colors='Set3',\n",
    "# #     cstep=1,\n",
    "# #     line_width = 1,\n",
    "# #     alpha = 0.85\n",
    "# # )\n",
    "\n",
    "# # pdb.set_trace()\n",
    "# # basemap.legend = True\n",
    "# # basemap"
   ]
  },
  {
   "cell_type": "code",
   "execution_count": null,
   "metadata": {},
   "outputs": [],
   "source": []
  }
 ],
 "metadata": {
  "kernelspec": {
   "display_name": "Python 3",
   "language": "python",
   "name": "python3"
  },
  "language_info": {
   "codemirror_mode": {
    "name": "ipython",
    "version": 3
   },
   "file_extension": ".py",
   "mimetype": "text/x-python",
   "name": "python",
   "nbconvert_exporter": "python",
   "pygments_lexer": "ipython3",
   "version": "3.7.6"
  }
 },
 "nbformat": 4,
 "nbformat_minor": 2
}
